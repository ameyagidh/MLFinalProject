{
 "cells": [
  {
   "cell_type": "code",
   "execution_count": 80,
   "metadata": {},
   "outputs": [],
   "source": [
    "import pandas as pd\n",
    "import numpy as np\n",
    "import matplotlib.pyplot as plt\n",
    "from typing import List\n",
    "import os"
   ]
  },
  {
   "cell_type": "markdown",
   "metadata": {},
   "source": [
    "# Data Preprocessing"
   ]
  },
  {
   "cell_type": "code",
   "execution_count": 57,
   "metadata": {},
   "outputs": [],
   "source": [
    "sp500File = \"../Data/Raw Data/ScrapedSP500.csv\"\n",
    "unEmpFile = \"../Data/Raw Data/unemployment.csv\"\n",
    "tenYearRateFile = \"../Data/Raw Data/10yr_treasury_yield.csv\"\n",
    "recExpFile = \"../Data/Raw Data/recession_indicator.csv\"\n",
    "cpiFile = \"../Data/Raw Data/consumer_price_index.csv\"\n",
    "vixFile = \"../Data/Raw Data/VIX_History.csv\""
   ]
  },
  {
   "cell_type": "code",
   "execution_count": 81,
   "metadata": {},
   "outputs": [],
   "source": [
    "def createDataFrame(file, year=None):\n",
    "    #Read data\n",
    "    df = pd.read_csv(file)\n",
    "   \n",
    "    #Capitalize Header\n",
    "    df = df.rename(columns=str.upper)\n",
    "\n",
    "    #Create DateTime\n",
    "    df.insert(0, \"DATETIME\", pd.to_datetime(df['DATE'])) \n",
    "\n",
    "    if year != None:\n",
    "        #Boolean Mask\n",
    "        mask = df['DATETIME'].dt.year == year\n",
    "        df = df[mask]\n",
    "\n",
    "    #Sanity Check\n",
    "    if os.path.basename(file) == \"ScrapedSP500.csv\":\n",
    "        assert 252 == sum(df[ \"DATETIME\"].dt.year == year), \"Missing Days\"\n",
    "        \n",
    "    return df \n",
    "\n",
    "#Build Full Dataset\n",
    "def buildFullData(dataSets: pd.DataFrame, listOfDataSets: List, how='left', on='DATETIME') -> pd.DataFrame:\n",
    "    for data in listOfDataSets:\n",
    "        dataSets = pd.merge(dataSets, data, how=how, on=on, copy=True, suffixes=(data, dataSets))\n",
    "\n",
    "    df.apply(lambda columns: val.columns)\n",
    "    return dataSets"
   ]
  },
  {
   "cell_type": "code",
   "execution_count": 82,
   "metadata": {},
   "outputs": [],
   "source": [
    "sp500Df = createDataFrame(sp500File, 2021)\n",
    "unEmpDf = createDataFrame(unEmpFile, 2021)\n",
    "tenYearRateDf = createDataFrame(tenYearRateFile, 2021)\n",
    "recExpDf = createDataFrame(recExpFile, 2021)\n",
    "cpiDf = createDataFrame(cpiFile, 2021)\n",
    "vixDf = createDataFrame(vixFile, 2021)"
   ]
  },
  {
   "cell_type": "code",
   "execution_count": 115,
   "metadata": {},
   "outputs": [
    {
     "name": "stderr",
     "output_type": "stream",
     "text": [
      "/var/folders/78/bkpkzcyj4j197sb4vtwjnl6r0000gn/T/ipykernel_31008/1311224173.py:25: FutureWarning: Passing 'suffixes' which cause duplicate columns {'DATE_x'} in the result is deprecated and will raise a MergeError in a future version.\n",
      "  dataSets = pd.merge(dataSets, data, how=how, on=on)\n",
      "/var/folders/78/bkpkzcyj4j197sb4vtwjnl6r0000gn/T/ipykernel_31008/1311224173.py:25: FutureWarning: Passing 'suffixes' which cause duplicate columns {'DATE_x'} in the result is deprecated and will raise a MergeError in a future version.\n",
      "  dataSets = pd.merge(dataSets, data, how=how, on=on)\n"
     ]
    }
   ],
   "source": [
    "economicIndicators = [unEmpDf,\n",
    "                      tenYearRateDf,\n",
    "                      recExpDf,\n",
    "                      cpiDf,\n",
    "                      vixDf\n",
    "                      ]\n",
    "\n",
    "fullData = buildFullData(sp500Df, economicIndicators, how='left', on='DATETIME')"
   ]
  },
  {
   "cell_type": "code",
   "execution_count": 110,
   "metadata": {},
   "outputs": [],
   "source": [
    "columns = [col for col in res.columns if \"DATE_\" not in col]\n",
    "# res.filter(items=columns)  "
   ]
  },
  {
   "cell_type": "code",
   "execution_count": 114,
   "metadata": {},
   "outputs": [
    {
     "data": {
      "text/plain": [
       "['DATETIME',\n",
       " 'HIGH_x',\n",
       " 'LOW_x',\n",
       " 'OPEN_x',\n",
       " 'CLOSE_x',\n",
       " 'VOLUME',\n",
       " 'ADJ CLOSE',\n",
       " 'UNRATE',\n",
       " 'DGS10',\n",
       " 'USREC',\n",
       " 'CPIAUCSL',\n",
       " 'OPEN_y',\n",
       " 'HIGH_y',\n",
       " 'LOW_y',\n",
       " 'CLOSE_y']"
      ]
     },
     "execution_count": 114,
     "metadata": {},
     "output_type": "execute_result"
    }
   ],
   "source": [
    "columns"
   ]
  },
  {
   "cell_type": "code",
   "execution_count": 113,
   "metadata": {},
   "outputs": [
    {
     "data": {
      "text/plain": [
       "(252, 21)"
      ]
     },
     "execution_count": 113,
     "metadata": {},
     "output_type": "execute_result"
    }
   ],
   "source": [
    "res.shape"
   ]
  },
  {
   "cell_type": "markdown",
   "metadata": {},
   "source": []
  }
 ],
 "metadata": {
  "kernelspec": {
   "display_name": "Python 3.9.12 ('base')",
   "language": "python",
   "name": "python3"
  },
  "language_info": {
   "codemirror_mode": {
    "name": "ipython",
    "version": 3
   },
   "file_extension": ".py",
   "mimetype": "text/x-python",
   "name": "python",
   "nbconvert_exporter": "python",
   "pygments_lexer": "ipython3",
   "version": "3.9.12"
  },
  "orig_nbformat": 4,
  "vscode": {
   "interpreter": {
    "hash": "f86e2613bf16b7f48244979450dca00f7233b8c859298ca56e9835ce3672caba"
   }
  }
 },
 "nbformat": 4,
 "nbformat_minor": 2
}
