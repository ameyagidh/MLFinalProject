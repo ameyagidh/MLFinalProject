{
 "cells": [
  {
   "cell_type": "code",
   "execution_count": 19,
   "metadata": {},
   "outputs": [],
   "source": [
    "import pandas as pd\n",
    "import numpy as np\n",
    "import matplotlib.pyplot as plt\n",
    "from typing import List\n",
    "import os"
   ]
  },
  {
   "cell_type": "markdown",
   "metadata": {},
   "source": [
    "# Data Preprocessing"
   ]
  },
  {
   "cell_type": "code",
   "execution_count": 20,
   "metadata": {},
   "outputs": [],
   "source": [
    "sp500File = \"../Data/Raw Data/ScrapedSP500.csv\"\n",
    "unEmpFile = \"../Data/Raw Data/unemployment.csv\"\n",
    "tenYearRateFile = \"../Data/Raw Data/10yr_treasury_yield.csv\"\n",
    "recExpFile = \"../Data/Raw Data/recession_indicator.csv\"\n",
    "cpiFile = \"../Data/Raw Data/consumer_price_index.csv\"\n",
    "vixFile = \"../Data/Raw Data/VIX_History.csv\""
   ]
  },
  {
   "cell_type": "code",
   "execution_count": 21,
   "metadata": {},
   "outputs": [],
   "source": [
    "def createDataFrame(file, year=None):\n",
    "    #Read data\n",
    "    df = pd.read_csv(file)\n",
    "   \n",
    "    #Capitalize Header\n",
    "    df = df.rename(columns=str.upper)\n",
    "\n",
    "    #Create DateTime\n",
    "    df.insert(0, \"DATETIME\", pd.to_datetime(df['DATE'])) \n",
    "\n",
    "    if year != None:\n",
    "        #Boolean Mask\n",
    "        mask = df['DATETIME'].dt.year == year\n",
    "        df = df[mask]\n",
    "\n",
    "    #Sanity Check\n",
    "    if os.path.basename(file) == \"ScrapedSP500.csv\":\n",
    "        assert 252 == sum(df[ \"DATETIME\"].dt.year == year), \"Missing Days\"\n",
    "        \n",
    "    return df \n",
    "\n",
    "#Build Full Dataset\n",
    "def buildFullData(dataSets: pd.DataFrame, listOfDataSets: List, how='left', on='DATETIME') -> pd.DataFrame:\n",
    "    names = ['_unEmp', '_tenYearRate', '_recExp', '_cpi', '_vix']\n",
    "\n",
    "    for name, data in zip(names, listOfDataSets):\n",
    "        dataSets = pd.merge(dataSets, data, how=how, on=on, copy=True, suffixes=(None, name))\n",
    "\n",
    "    dataSets = dataSets.filter([col for col in dataSets.columns if \"DATE_\" not in col])\n",
    "    return dataSets"
   ]
  },
  {
   "cell_type": "code",
   "execution_count": 22,
   "metadata": {},
   "outputs": [],
   "source": [
    "sp500Df = createDataFrame(sp500File, 2021)\n",
    "unEmpDf = createDataFrame(unEmpFile, 2021)\n",
    "tenYearRateDf = createDataFrame(tenYearRateFile, 2021)\n",
    "recExpDf = createDataFrame(recExpFile, 2021)\n",
    "cpiDf = createDataFrame(cpiFile, 2021)\n",
    "vixDf = createDataFrame(vixFile, 2021)"
   ]
  },
  {
   "cell_type": "code",
   "execution_count": 23,
   "metadata": {},
   "outputs": [],
   "source": [
    "economicIndicators = [unEmpDf,\n",
    "                      tenYearRateDf,\n",
    "                      recExpDf,\n",
    "                      cpiDf,\n",
    "                      vixDf\n",
    "                      ]\n",
    "\n",
    "fullData = buildFullData(sp500Df, economicIndicators, how='left', on='DATETIME')"
   ]
  },
  {
   "cell_type": "markdown",
   "metadata": {},
   "source": []
  },
  {
   "cell_type": "code",
   "execution_count": 24,
   "metadata": {},
   "outputs": [],
   "source": [
    "#Write out the date\n",
    "outFile = \"../Data/Raw Data/fullData.csv\"\n",
    "fullData.to_csv(outFile)"
   ]
  }
 ],
 "metadata": {
  "kernelspec": {
   "display_name": "Python 3.9.12 ('base')",
   "language": "python",
   "name": "python3"
  },
  "language_info": {
   "codemirror_mode": {
    "name": "ipython",
    "version": 3
   },
   "file_extension": ".py",
   "mimetype": "text/x-python",
   "name": "python",
   "nbconvert_exporter": "python",
   "pygments_lexer": "ipython3",
   "version": "3.9.12"
  },
  "orig_nbformat": 4,
  "vscode": {
   "interpreter": {
    "hash": "f86e2613bf16b7f48244979450dca00f7233b8c859298ca56e9835ce3672caba"
   }
  }
 },
 "nbformat": 4,
 "nbformat_minor": 2
}
